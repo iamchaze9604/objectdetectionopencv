{
 "cells": [
  {
   "cell_type": "markdown",
   "id": "917c1f0a",
   "metadata": {},
   "source": [
    "## IMPORTING THE LIBRARY FILES"
   ]
  },
  {
   "cell_type": "code",
   "execution_count": 2,
   "id": "32aa8272",
   "metadata": {},
   "outputs": [],
   "source": [
    "import cv2 as cv\n",
    "import matplotlib.pyplot as plt"
   ]
  },
  {
   "cell_type": "markdown",
   "id": "563aeae7",
   "metadata": {},
   "source": [
    "## LOADING THE MODEL"
   ]
  },
  {
   "cell_type": "code",
   "execution_count": 3,
   "id": "ba2725f0",
   "metadata": {},
   "outputs": [],
   "source": [
    "configFile = r'feature_extractor.pbtxt'\n",
    "frozenModel = r'frozen_inference_graph.pb'\n",
    "model = cv.dnn_DetectionModel(frozenModel,configFile)"
   ]
  },
  {
   "cell_type": "markdown",
   "id": "8693ce0d",
   "metadata": {},
   "source": [
    "## CREATING THE CLASS FILES"
   ]
  },
  {
   "cell_type": "code",
   "execution_count": 4,
   "id": "983c2f38",
   "metadata": {},
   "outputs": [
    {
     "name": "stdout",
     "output_type": "stream",
     "text": [
      "['person', 'bicycle', 'car', 'motorbike', 'aeroplane', 'bus', 'train', 'truck', 'boat', 'traffic light', 'fire hydrant', 'stop sign', 'parking meter', 'bench', 'bird', 'cat', 'dog', 'horse', 'sheep', 'cow', 'elephant', 'bear', 'zebra', 'giraffe', 'backpack', 'umbrella', 'handbag', 'tie', 'suitcase', 'frisbee', 'skis', 'snowboard', 'sports ball', 'kite', 'baseball bat', 'baseball glove', 'skateboard', 'surfboard', 'tennis racket', 'bottle', 'wine glass', 'cup', 'fork', 'knife', 'spoon', 'bowl', 'banana', 'apple', 'sandwich', 'orange', 'broccoli', 'carrot', 'hot dog', 'pizza', 'donut', 'cake', 'chair', 'sofa', 'pottedplant', 'bed', 'diningtable', 'toilet', 'tvmonitor', 'laptop', 'mouse', 'remote', 'keyboard', 'cell phone', 'microwave', 'oven', 'toaster', 'sink', 'refrigerator', 'book', 'clock', 'vase', 'scissors', 'teddy bear', 'hair drier', 'toothbrush'] 80\n"
     ]
    }
   ],
   "source": [
    "classFile = r'coco.names'\n",
    "classNames = []\n",
    "\n",
    "#classNames ==> Contains all the 80 classes from the coco dataset\n",
    "\n",
    "with open(classFile, 'rt') as f:\n",
    "    classNames = f.read().rstrip('\\n').split('\\n')\n",
    "print(classNames, len(classNames)) "
   ]
  },
  {
   "cell_type": "markdown",
   "id": "a332718b",
   "metadata": {},
   "source": [
    "## SETTING UP THE CONFIGURATION OF THE MODEL"
   ]
  },
  {
   "cell_type": "code",
   "execution_count": 5,
   "id": "d3388cfa",
   "metadata": {},
   "outputs": [
    {
     "data": {
      "text/plain": [
       "<dnn_Model 000001D4EF7DC7D0>"
      ]
     },
     "execution_count": 5,
     "metadata": {},
     "output_type": "execute_result"
    }
   ],
   "source": [
    "model.setInputSize(320,320)\n",
    "model.setInputScale(1.0/127.5)\n",
    "model.setInputMean((127.5,127.5,127.5))\n",
    "model.setInputSwapRB(True)"
   ]
  },
  {
   "cell_type": "markdown",
   "id": "6955e370",
   "metadata": {},
   "source": [
    "## CAPTURING THE VIDEO"
   ]
  },
  {
   "cell_type": "code",
   "execution_count": 6,
   "id": "d3268349",
   "metadata": {},
   "outputs": [
    {
     "name": "stdout",
     "output_type": "stream",
     "text": [
      "press Q for the next output\n"
     ]
    }
   ],
   "source": [
    "cap = cv.VideoCapture(r'video.mp4')\n",
    "print(\"press Q for the next output\");\n",
    "\n",
    "#cap = cv.VideoCapture(0) ==> webcam\n",
    "\n",
    "if not cap.isOpened():\n",
    "    raise IOError(\"Cannot Open Video\")"
   ]
  },
  {
   "cell_type": "markdown",
   "id": "645e13e1",
   "metadata": {},
   "source": [
    "## SETTING UP THE FONT STYLES"
   ]
  },
  {
   "cell_type": "code",
   "execution_count": 7,
   "id": "41942ed7",
   "metadata": {},
   "outputs": [
    {
     "ename": "error",
     "evalue": "OpenCV(4.5.1) C:\\Users\\appveyor\\AppData\\Local\\Temp\\1\\pip-req-build-wvn_it83\\opencv\\modules\\imgproc\\src\\resize.cpp:4051: error: (-215:Assertion failed) !ssize.empty() in function 'cv::resize'\n",
     "output_type": "error",
     "traceback": [
      "\u001b[1;31m---------------------------------------------------------------------------\u001b[0m",
      "\u001b[1;31merror\u001b[0m                                     Traceback (most recent call last)",
      "\u001b[1;32m<ipython-input-7-a7391d3dfb69>\u001b[0m in \u001b[0;36m<module>\u001b[1;34m\u001b[0m\n\u001b[0;32m      6\u001b[0m \u001b[1;32mwhile\u001b[0m \u001b[1;32mTrue\u001b[0m\u001b[1;33m:\u001b[0m\u001b[1;33m\u001b[0m\u001b[1;33m\u001b[0m\u001b[0m\n\u001b[0;32m      7\u001b[0m     \u001b[0mret\u001b[0m\u001b[1;33m,\u001b[0m\u001b[0mframe\u001b[0m \u001b[1;33m=\u001b[0m \u001b[0mcap\u001b[0m\u001b[1;33m.\u001b[0m\u001b[0mread\u001b[0m\u001b[1;33m(\u001b[0m\u001b[1;33m)\u001b[0m\u001b[1;33m\u001b[0m\u001b[1;33m\u001b[0m\u001b[0m\n\u001b[1;32m----> 8\u001b[1;33m     \u001b[0mClassIndex\u001b[0m\u001b[1;33m,\u001b[0m \u001b[0mconfidence\u001b[0m\u001b[1;33m,\u001b[0m \u001b[0mbbox\u001b[0m \u001b[1;33m=\u001b[0m \u001b[0mmodel\u001b[0m\u001b[1;33m.\u001b[0m\u001b[0mdetect\u001b[0m\u001b[1;33m(\u001b[0m\u001b[0mframe\u001b[0m\u001b[1;33m,\u001b[0m\u001b[0mconfThreshold\u001b[0m\u001b[1;33m=\u001b[0m\u001b[1;36m0.62\u001b[0m\u001b[1;33m)\u001b[0m\u001b[1;33m\u001b[0m\u001b[1;33m\u001b[0m\u001b[0m\n\u001b[0m\u001b[0;32m      9\u001b[0m     \u001b[1;32mif\u001b[0m \u001b[0mlen\u001b[0m\u001b[1;33m(\u001b[0m\u001b[0mClassIndex\u001b[0m\u001b[1;33m)\u001b[0m\u001b[1;33m!=\u001b[0m \u001b[1;36m0\u001b[0m\u001b[1;33m:\u001b[0m\u001b[1;33m\u001b[0m\u001b[1;33m\u001b[0m\u001b[0m\n\u001b[0;32m     10\u001b[0m         \u001b[1;32mfor\u001b[0m \u001b[0mClassInd\u001b[0m\u001b[1;33m,\u001b[0m\u001b[0mconf\u001b[0m\u001b[1;33m,\u001b[0m\u001b[0mboxes\u001b[0m \u001b[1;32min\u001b[0m \u001b[0mzip\u001b[0m\u001b[1;33m(\u001b[0m\u001b[0mClassIndex\u001b[0m\u001b[1;33m.\u001b[0m\u001b[0mflatten\u001b[0m\u001b[1;33m(\u001b[0m\u001b[1;33m)\u001b[0m\u001b[1;33m,\u001b[0m\u001b[0mconfidence\u001b[0m\u001b[1;33m.\u001b[0m\u001b[0mflatten\u001b[0m\u001b[1;33m(\u001b[0m\u001b[1;33m)\u001b[0m\u001b[1;33m,\u001b[0m\u001b[0mbbox\u001b[0m\u001b[1;33m)\u001b[0m\u001b[1;33m:\u001b[0m\u001b[1;33m\u001b[0m\u001b[1;33m\u001b[0m\u001b[0m\n",
      "\u001b[1;31merror\u001b[0m: OpenCV(4.5.1) C:\\Users\\appveyor\\AppData\\Local\\Temp\\1\\pip-req-build-wvn_it83\\opencv\\modules\\imgproc\\src\\resize.cpp:4051: error: (-215:Assertion failed) !ssize.empty() in function 'cv::resize'\n"
     ]
    }
   ],
   "source": [
    "font_scale = 1.1\n",
    "font = cv.FONT_HERSHEY_COMPLEX\n",
    "\n",
    "# Reading each frame and detecting the objects in it\n",
    "\n",
    "while True:\n",
    "    ret,frame = cap.read()\n",
    "    ClassIndex, confidence, bbox = model.detect(frame,confThreshold=0.62)\n",
    "    if len(ClassIndex)!= 0:\n",
    "        for ClassInd,conf,boxes in zip(ClassIndex.flatten(),confidence.flatten(),bbox):\n",
    "            if ClassInd <= 80:\n",
    "                cv.rectangle(frame,boxes,(0,255,0),2)\n",
    "                cv.putText(frame,classNames[ClassInd-1],(boxes[0]+10,boxes[1]+40),font, fontScale=font_scale, color = (0,255,0),thickness = 2)\n",
    "    cv.imshow(\"output\",frame)\n",
    "    if cv.waitKey(2) & 0xFF == ord('q'):\n",
    "        break;\n",
    "        \n",
    "#breaks out of the loop as soon as we press 'q' from our keyboard\n",
    "\n",
    "cap.release()\n",
    "cv.destroyAllWindows()"
   ]
  },
  {
   "cell_type": "markdown",
   "id": "db8725d4",
   "metadata": {},
   "source": [
    "## DETECTING THE IMAGE"
   ]
  },
  {
   "cell_type": "code",
   "execution_count": null,
   "id": "0548c1df",
   "metadata": {},
   "outputs": [],
   "source": [
    "#importing the image\n",
    "\n",
    "img = cv.imread(r'image2.jpg')\n",
    "rgb = cv.cvtColor(img, cv.COLOR_BGR2RGB)\n",
    "plt.imshow(rgb);\n",
    "\n",
    "#classifying the image with respect to class files\n",
    "\n",
    "ClassIndex, confidence, bbox = model.detect(rgb,confThreshold=0.5)\n",
    "font_scale = 1.1\n",
    "font = cv.FONT_HERSHEY_COMPLEX\n",
    "for ClassInd,conf,boxes in zip(ClassIndex.flatten(),confidence.flatten(),bbox):\n",
    "    cv.rectangle(img,boxes,(0,255,0),2)\n",
    "    cv.putText(img,classNames[ClassInd-1],(boxes[0]+10,boxes[1]+40),font, fontScale=font_scale, color = (0,255,0),thickness = 2)\n",
    "cv.imshow('output',img);\n",
    "cv.waitKey(0)"
   ]
  }
 ],
 "metadata": {
  "kernelspec": {
   "display_name": "Python 3",
   "language": "python",
   "name": "python3"
  },
  "language_info": {
   "codemirror_mode": {
    "name": "ipython",
    "version": 3
   },
   "file_extension": ".py",
   "mimetype": "text/x-python",
   "name": "python",
   "nbconvert_exporter": "python",
   "pygments_lexer": "ipython3",
   "version": "3.9.4"
  }
 },
 "nbformat": 4,
 "nbformat_minor": 5
}
